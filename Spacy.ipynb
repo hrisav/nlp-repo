{
  "nbformat": 4,
  "nbformat_minor": 0,
  "metadata": {
    "colab": {
      "name": "Spacy.ipynb",
      "provenance": [],
      "collapsed_sections": []
    },
    "kernelspec": {
      "name": "python3",
      "display_name": "Python 3"
    },
    "language_info": {
      "name": "python"
    }
  },
  "cells": [
    {
      "cell_type": "code",
      "metadata": {
        "colab": {
          "base_uri": "https://localhost:8080/"
        },
        "id": "fntGP6bXKc29",
        "outputId": "4a076a05-ff97-4089-9506-c0d62990fc9a"
      },
      "source": [
        "pip install spacy"
      ],
      "execution_count": 1,
      "outputs": [
        {
          "output_type": "stream",
          "text": [
            "Requirement already satisfied: spacy in /usr/local/lib/python3.7/dist-packages (2.2.4)\n",
            "Requirement already satisfied: setuptools in /usr/local/lib/python3.7/dist-packages (from spacy) (57.2.0)\n",
            "Requirement already satisfied: numpy>=1.15.0 in /usr/local/lib/python3.7/dist-packages (from spacy) (1.19.5)\n",
            "Requirement already satisfied: requests<3.0.0,>=2.13.0 in /usr/local/lib/python3.7/dist-packages (from spacy) (2.23.0)\n",
            "Requirement already satisfied: srsly<1.1.0,>=1.0.2 in /usr/local/lib/python3.7/dist-packages (from spacy) (1.0.5)\n",
            "Requirement already satisfied: cymem<2.1.0,>=2.0.2 in /usr/local/lib/python3.7/dist-packages (from spacy) (2.0.5)\n",
            "Requirement already satisfied: wasabi<1.1.0,>=0.4.0 in /usr/local/lib/python3.7/dist-packages (from spacy) (0.8.2)\n",
            "Requirement already satisfied: blis<0.5.0,>=0.4.0 in /usr/local/lib/python3.7/dist-packages (from spacy) (0.4.1)\n",
            "Requirement already satisfied: preshed<3.1.0,>=3.0.2 in /usr/local/lib/python3.7/dist-packages (from spacy) (3.0.5)\n",
            "Requirement already satisfied: murmurhash<1.1.0,>=0.28.0 in /usr/local/lib/python3.7/dist-packages (from spacy) (1.0.5)\n",
            "Requirement already satisfied: catalogue<1.1.0,>=0.0.7 in /usr/local/lib/python3.7/dist-packages (from spacy) (1.0.0)\n",
            "Requirement already satisfied: tqdm<5.0.0,>=4.38.0 in /usr/local/lib/python3.7/dist-packages (from spacy) (4.41.1)\n",
            "Requirement already satisfied: plac<1.2.0,>=0.9.6 in /usr/local/lib/python3.7/dist-packages (from spacy) (1.1.3)\n",
            "Requirement already satisfied: thinc==7.4.0 in /usr/local/lib/python3.7/dist-packages (from spacy) (7.4.0)\n",
            "Requirement already satisfied: importlib-metadata>=0.20 in /usr/local/lib/python3.7/dist-packages (from catalogue<1.1.0,>=0.0.7->spacy) (4.6.1)\n",
            "Requirement already satisfied: zipp>=0.5 in /usr/local/lib/python3.7/dist-packages (from importlib-metadata>=0.20->catalogue<1.1.0,>=0.0.7->spacy) (3.5.0)\n",
            "Requirement already satisfied: typing-extensions>=3.6.4 in /usr/local/lib/python3.7/dist-packages (from importlib-metadata>=0.20->catalogue<1.1.0,>=0.0.7->spacy) (3.7.4.3)\n",
            "Requirement already satisfied: urllib3!=1.25.0,!=1.25.1,<1.26,>=1.21.1 in /usr/local/lib/python3.7/dist-packages (from requests<3.0.0,>=2.13.0->spacy) (1.24.3)\n",
            "Requirement already satisfied: certifi>=2017.4.17 in /usr/local/lib/python3.7/dist-packages (from requests<3.0.0,>=2.13.0->spacy) (2021.5.30)\n",
            "Requirement already satisfied: chardet<4,>=3.0.2 in /usr/local/lib/python3.7/dist-packages (from requests<3.0.0,>=2.13.0->spacy) (3.0.4)\n",
            "Requirement already satisfied: idna<3,>=2.5 in /usr/local/lib/python3.7/dist-packages (from requests<3.0.0,>=2.13.0->spacy) (2.10)\n"
          ],
          "name": "stdout"
        }
      ]
    },
    {
      "cell_type": "code",
      "metadata": {
        "id": "b0O1d3VNKvb4"
      },
      "source": [
        "# import spaCy and load the language library\n",
        "\n",
        "import spacy\n",
        "nlp = spacy.load('en_core_web_sm')        # spaCy's smallest English language model"
      ],
      "execution_count": 2,
      "outputs": []
    },
    {
      "cell_type": "code",
      "metadata": {
        "colab": {
          "base_uri": "https://localhost:8080/"
        },
        "id": "Hf2royyONPAx",
        "outputId": "ea64f51c-ce94-4feb-aaeb-2b8c108d1080"
      },
      "source": [
        "nlp.pipeline"
      ],
      "execution_count": 6,
      "outputs": [
        {
          "output_type": "execute_result",
          "data": {
            "text/plain": [
              "[('tagger', <spacy.pipeline.pipes.Tagger at 0x7f0ec2a38490>),\n",
              " ('parser', <spacy.pipeline.pipes.DependencyParser at 0x7f0ebe9f09f0>),\n",
              " ('ner', <spacy.pipeline.pipes.EntityRecognizer at 0x7f0ebe9f0980>)]"
            ]
          },
          "metadata": {
            "tags": []
          },
          "execution_count": 6
        }
      ]
    },
    {
      "cell_type": "code",
      "metadata": {
        "colab": {
          "base_uri": "https://localhost:8080/"
        },
        "id": "0PfDAuILLC2m",
        "outputId": "67187cf0-ecfe-4d9f-dceb-b44a1abb25d0"
      },
      "source": [
        "# create a Doc object\n",
        "doc = nlp('India records 41,649 new Covid cases; active cases rise for 4th day.')\n",
        "\n",
        "# print each token separately\n",
        "for token in doc:\n",
        "    print(token.text, token.pos_, token.dep_, token.lemma_)             # token, part of speech, dependency, lemma"
      ],
      "execution_count": 5,
      "outputs": [
        {
          "output_type": "stream",
          "text": [
            "India PROPN nsubj India\n",
            "records VERB ccomp record\n",
            "41,649 NUM nummod 41,649\n",
            "new ADJ amod new\n",
            "Covid PROPN compound Covid\n",
            "cases NOUN dobj case\n",
            "; PUNCT punct ;\n",
            "active ADJ amod active\n",
            "cases NOUN nsubj case\n",
            "rise VERB ROOT rise\n",
            "for ADP prep for\n",
            "4th ADJ amod 4th\n",
            "day NOUN pobj day\n",
            ". PUNCT punct .\n"
          ],
          "name": "stdout"
        }
      ]
    },
    {
      "cell_type": "code",
      "metadata": {
        "colab": {
          "base_uri": "https://localhost:8080/"
        },
        "id": "etxgCTwOLJN-",
        "outputId": "ce6ef60f-b1a6-4406-9a9e-b5eb8f81c4b5"
      },
      "source": [
        "doc[0:5]"
      ],
      "execution_count": 7,
      "outputs": [
        {
          "output_type": "execute_result",
          "data": {
            "text/plain": [
              "India records 41,649 new Covid"
            ]
          },
          "metadata": {
            "tags": []
          },
          "execution_count": 7
        }
      ]
    },
    {
      "cell_type": "code",
      "metadata": {
        "colab": {
          "base_uri": "https://localhost:8080/"
        },
        "id": "ycvcAmkhR2n4",
        "outputId": "7d0f6e5d-d13c-4ff3-bdd5-9750ff7b804a"
      },
      "source": [
        "type(doc[0:5])            # span is a slice of Doc object"
      ],
      "execution_count": 12,
      "outputs": [
        {
          "output_type": "execute_result",
          "data": {
            "text/plain": [
              "spacy.tokens.span.Span"
            ]
          },
          "metadata": {
            "tags": []
          },
          "execution_count": 12
        }
      ]
    },
    {
      "cell_type": "code",
      "metadata": {
        "colab": {
          "base_uri": "https://localhost:8080/"
        },
        "id": "7thl97KDPjAh",
        "outputId": "073cae73-95d0-4f31-dd7a-7e176075d34e"
      },
      "source": [
        "doc[0].pos_, doc[0].tag_, doc[0].shape_, doc[0].is_alpha, doc[0].is_stop"
      ],
      "execution_count": 11,
      "outputs": [
        {
          "output_type": "execute_result",
          "data": {
            "text/plain": [
              "('PROPN', 'NNP', 'Xxxxx', True, False)"
            ]
          },
          "metadata": {
            "tags": []
          },
          "execution_count": 11
        }
      ]
    },
    {
      "cell_type": "markdown",
      "metadata": {
        "id": "raZxVtR2QnJf"
      },
      "source": [
        "|Tag|Description|doc[0].tag|\n",
        "|:------|:------:|:------|\n",
        "|`.text`|The original word text<!-- .element: style=\"text-align:left;\" -->|`India`|\n",
        "|`.lemma_`|The base form of the word|`India`|\n",
        "|`.pos_`|The simple part-of-speech tag|`PROPN`/`proper noun`|\n",
        "|`.tag_`|The detailed part-of-speech tag|`NNP`/`noun`|\n",
        "|`.shape_`|The word shape – capitalization, punctuation, digits|`Xxxxx`|\n",
        "|`.is_alpha`|Is the token an alpha character?|`True`|\n",
        "|`.is_stop`|Is the token part of a stop list, i.e. the most common words of the language?|`False`|"
      ]
    },
    {
      "cell_type": "code",
      "metadata": {
        "colab": {
          "base_uri": "https://localhost:8080/",
          "height": 36
        },
        "id": "pgtNqlEzNlw1",
        "outputId": "4986db32-8445-420e-db9d-58c7a53f7b49"
      },
      "source": [
        "spacy.explain('ccomp')        # to explain anything"
      ],
      "execution_count": 8,
      "outputs": [
        {
          "output_type": "execute_result",
          "data": {
            "application/vnd.google.colaboratory.intrinsic+json": {
              "type": "string"
            },
            "text/plain": [
              "'clausal complement'"
            ]
          },
          "metadata": {
            "tags": []
          },
          "execution_count": 8
        }
      ]
    },
    {
      "cell_type": "code",
      "metadata": {
        "colab": {
          "base_uri": "https://localhost:8080/"
        },
        "id": "c3x2uBW5PcOZ",
        "outputId": "01d9ca52-ee5f-4cc0-e5b1-364629b90ecb"
      },
      "source": [
        "doc1 = nlp('Hi how are you? I am fine. Thanks for asking!')\n",
        "\n",
        "for sent in doc1.sents:\n",
        "    print(sent)"
      ],
      "execution_count": 13,
      "outputs": [
        {
          "output_type": "stream",
          "text": [
            "Hi how are you?\n",
            "I am fine.\n",
            "Thanks for asking!\n"
          ],
          "name": "stdout"
        }
      ]
    },
    {
      "cell_type": "code",
      "metadata": {
        "colab": {
          "base_uri": "https://localhost:8080/"
        },
        "id": "AZWcDWiNTOs3",
        "outputId": "99662dbf-4485-494e-f613-e9d00ffe1ec2"
      },
      "source": [
        "doc = nlp('India records 41,649 new Covid cases; active cases rise for 4th day.')\n",
        "\n",
        "for token in doc:\n",
        "    print(token.text, end=' | ')\n",
        "\n",
        "print('\\n')\n",
        "\n",
        "# Named Entity Recognition (NER)\n",
        "\n",
        "for ent in doc.ents:\n",
        "    print(ent.text+' - '+ent.label_+' - '+str(spacy.explain(ent.label_)))"
      ],
      "execution_count": 15,
      "outputs": [
        {
          "output_type": "stream",
          "text": [
            "India | records | 41,649 | new | Covid | cases | ; | active | cases | rise | for | 4th | day | . | \n",
            "\n",
            "India - GPE - Countries, cities, states\n",
            "41,649 - CARDINAL - Numerals that do not fall under another type\n",
            "Covid - PRODUCT - Objects, vehicles, foods, etc. (not services)\n",
            "4th day - DATE - Absolute or relative dates or periods\n"
          ],
          "name": "stdout"
        }
      ]
    },
    {
      "cell_type": "code",
      "metadata": {
        "colab": {
          "base_uri": "https://localhost:8080/"
        },
        "id": "LrrDuZSYUlO7",
        "outputId": "58b212e0-9245-45f5-c903-fc69e2df361b"
      },
      "source": [
        "# Noun Chunks\n",
        "\n",
        "for chunk in doc.noun_chunks:\n",
        "    print(chunk.text)"
      ],
      "execution_count": 16,
      "outputs": [
        {
          "output_type": "stream",
          "text": [
            "India\n",
            "41,649 new Covid cases\n",
            "active cases\n",
            "4th day\n"
          ],
          "name": "stdout"
        }
      ]
    },
    {
      "cell_type": "code",
      "metadata": {
        "colab": {
          "base_uri": "https://localhost:8080/",
          "height": 52
        },
        "id": "Ql2Y0kFx-aWj",
        "outputId": "69494e23-3f91-4af9-d9bb-dc94d82b1a25"
      },
      "source": [
        "# Visualizing the entity recognizer\n",
        "\n",
        "from spacy import displacy\n",
        "\n",
        "doc = nlp(u'Over the last quarter Apple sold nearly 20 thousand iPods for a profit of $6 million.')\n",
        "displacy.render(doc, style='ent', jupyter=True)"
      ],
      "execution_count": 3,
      "outputs": [
        {
          "output_type": "display_data",
          "data": {
            "text/html": [
              "<span class=\"tex2jax_ignore\"><div class=\"entities\" style=\"line-height: 2.5; direction: ltr\">Over \n",
              "<mark class=\"entity\" style=\"background: #bfe1d9; padding: 0.45em 0.6em; margin: 0 0.25em; line-height: 1; border-radius: 0.35em;\">\n",
              "    the last quarter\n",
              "    <span style=\"font-size: 0.8em; font-weight: bold; line-height: 1; border-radius: 0.35em; text-transform: uppercase; vertical-align: middle; margin-left: 0.5rem\">DATE</span>\n",
              "</mark>\n",
              " \n",
              "<mark class=\"entity\" style=\"background: #7aecec; padding: 0.45em 0.6em; margin: 0 0.25em; line-height: 1; border-radius: 0.35em;\">\n",
              "    Apple\n",
              "    <span style=\"font-size: 0.8em; font-weight: bold; line-height: 1; border-radius: 0.35em; text-transform: uppercase; vertical-align: middle; margin-left: 0.5rem\">ORG</span>\n",
              "</mark>\n",
              " sold \n",
              "<mark class=\"entity\" style=\"background: #e4e7d2; padding: 0.45em 0.6em; margin: 0 0.25em; line-height: 1; border-radius: 0.35em;\">\n",
              "    nearly 20 thousand\n",
              "    <span style=\"font-size: 0.8em; font-weight: bold; line-height: 1; border-radius: 0.35em; text-transform: uppercase; vertical-align: middle; margin-left: 0.5rem\">CARDINAL</span>\n",
              "</mark>\n",
              " \n",
              "<mark class=\"entity\" style=\"background: #bfeeb7; padding: 0.45em 0.6em; margin: 0 0.25em; line-height: 1; border-radius: 0.35em;\">\n",
              "    iPods\n",
              "    <span style=\"font-size: 0.8em; font-weight: bold; line-height: 1; border-radius: 0.35em; text-transform: uppercase; vertical-align: middle; margin-left: 0.5rem\">PRODUCT</span>\n",
              "</mark>\n",
              " for a profit of \n",
              "<mark class=\"entity\" style=\"background: #e4e7d2; padding: 0.45em 0.6em; margin: 0 0.25em; line-height: 1; border-radius: 0.35em;\">\n",
              "    $6 million\n",
              "    <span style=\"font-size: 0.8em; font-weight: bold; line-height: 1; border-radius: 0.35em; text-transform: uppercase; vertical-align: middle; margin-left: 0.5rem\">MONEY</span>\n",
              "</mark>\n",
              ".</div></span>"
            ],
            "text/plain": [
              "<IPython.core.display.HTML object>"
            ]
          },
          "metadata": {
            "tags": []
          }
        }
      ]
    },
    {
      "cell_type": "code",
      "metadata": {
        "colab": {
          "base_uri": "https://localhost:8080/"
        },
        "id": "QvnbGiTYROt5",
        "outputId": "a5f11273-7a3e-4ce5-ab15-e95411cf8c50"
      },
      "source": [
        "!python -m spacy download en_core_web_md      # this model is larger library with built-in word vectors"
      ],
      "execution_count": 6,
      "outputs": [
        {
          "output_type": "stream",
          "text": [
            "Collecting en_core_web_md==2.2.5\n",
            "  Downloading https://github.com/explosion/spacy-models/releases/download/en_core_web_md-2.2.5/en_core_web_md-2.2.5.tar.gz (96.4 MB)\n",
            "\u001b[K     |████████████████████████████████| 96.4 MB 1.2 MB/s \n",
            "\u001b[?25hRequirement already satisfied: spacy>=2.2.2 in /usr/local/lib/python3.7/dist-packages (from en_core_web_md==2.2.5) (2.2.4)\n",
            "Requirement already satisfied: plac<1.2.0,>=0.9.6 in /usr/local/lib/python3.7/dist-packages (from spacy>=2.2.2->en_core_web_md==2.2.5) (1.1.3)\n",
            "Requirement already satisfied: requests<3.0.0,>=2.13.0 in /usr/local/lib/python3.7/dist-packages (from spacy>=2.2.2->en_core_web_md==2.2.5) (2.23.0)\n",
            "Requirement already satisfied: wasabi<1.1.0,>=0.4.0 in /usr/local/lib/python3.7/dist-packages (from spacy>=2.2.2->en_core_web_md==2.2.5) (0.8.2)\n",
            "Requirement already satisfied: catalogue<1.1.0,>=0.0.7 in /usr/local/lib/python3.7/dist-packages (from spacy>=2.2.2->en_core_web_md==2.2.5) (1.0.0)\n",
            "Requirement already satisfied: murmurhash<1.1.0,>=0.28.0 in /usr/local/lib/python3.7/dist-packages (from spacy>=2.2.2->en_core_web_md==2.2.5) (1.0.5)\n",
            "Requirement already satisfied: numpy>=1.15.0 in /usr/local/lib/python3.7/dist-packages (from spacy>=2.2.2->en_core_web_md==2.2.5) (1.19.5)\n",
            "Requirement already satisfied: setuptools in /usr/local/lib/python3.7/dist-packages (from spacy>=2.2.2->en_core_web_md==2.2.5) (57.2.0)\n",
            "Requirement already satisfied: srsly<1.1.0,>=1.0.2 in /usr/local/lib/python3.7/dist-packages (from spacy>=2.2.2->en_core_web_md==2.2.5) (1.0.5)\n",
            "Requirement already satisfied: blis<0.5.0,>=0.4.0 in /usr/local/lib/python3.7/dist-packages (from spacy>=2.2.2->en_core_web_md==2.2.5) (0.4.1)\n",
            "Requirement already satisfied: cymem<2.1.0,>=2.0.2 in /usr/local/lib/python3.7/dist-packages (from spacy>=2.2.2->en_core_web_md==2.2.5) (2.0.5)\n",
            "Requirement already satisfied: preshed<3.1.0,>=3.0.2 in /usr/local/lib/python3.7/dist-packages (from spacy>=2.2.2->en_core_web_md==2.2.5) (3.0.5)\n",
            "Requirement already satisfied: tqdm<5.0.0,>=4.38.0 in /usr/local/lib/python3.7/dist-packages (from spacy>=2.2.2->en_core_web_md==2.2.5) (4.41.1)\n",
            "Requirement already satisfied: thinc==7.4.0 in /usr/local/lib/python3.7/dist-packages (from spacy>=2.2.2->en_core_web_md==2.2.5) (7.4.0)\n",
            "Requirement already satisfied: importlib-metadata>=0.20 in /usr/local/lib/python3.7/dist-packages (from catalogue<1.1.0,>=0.0.7->spacy>=2.2.2->en_core_web_md==2.2.5) (4.6.1)\n",
            "Requirement already satisfied: zipp>=0.5 in /usr/local/lib/python3.7/dist-packages (from importlib-metadata>=0.20->catalogue<1.1.0,>=0.0.7->spacy>=2.2.2->en_core_web_md==2.2.5) (3.5.0)\n",
            "Requirement already satisfied: typing-extensions>=3.6.4 in /usr/local/lib/python3.7/dist-packages (from importlib-metadata>=0.20->catalogue<1.1.0,>=0.0.7->spacy>=2.2.2->en_core_web_md==2.2.5) (3.7.4.3)\n",
            "Requirement already satisfied: idna<3,>=2.5 in /usr/local/lib/python3.7/dist-packages (from requests<3.0.0,>=2.13.0->spacy>=2.2.2->en_core_web_md==2.2.5) (2.10)\n",
            "Requirement already satisfied: certifi>=2017.4.17 in /usr/local/lib/python3.7/dist-packages (from requests<3.0.0,>=2.13.0->spacy>=2.2.2->en_core_web_md==2.2.5) (2021.5.30)\n",
            "Requirement already satisfied: chardet<4,>=3.0.2 in /usr/local/lib/python3.7/dist-packages (from requests<3.0.0,>=2.13.0->spacy>=2.2.2->en_core_web_md==2.2.5) (3.0.4)\n",
            "Requirement already satisfied: urllib3!=1.25.0,!=1.25.1,<1.26,>=1.21.1 in /usr/local/lib/python3.7/dist-packages (from requests<3.0.0,>=2.13.0->spacy>=2.2.2->en_core_web_md==2.2.5) (1.24.3)\n",
            "Building wheels for collected packages: en-core-web-md\n",
            "  Building wheel for en-core-web-md (setup.py) ... \u001b[?25l\u001b[?25hdone\n",
            "  Created wheel for en-core-web-md: filename=en_core_web_md-2.2.5-py3-none-any.whl size=98051301 sha256=3bf4371f4b50aab5b709eb2ccab6bf9fb4bb173b0769df158b74639fd62352e4\n",
            "  Stored in directory: /tmp/pip-ephem-wheel-cache-l0fmdwsy/wheels/69/c5/b8/4f1c029d89238734311b3269762ab2ee325a42da2ce8edb997\n",
            "Successfully built en-core-web-md\n",
            "Installing collected packages: en-core-web-md\n",
            "Successfully installed en-core-web-md-2.2.5\n",
            "\u001b[38;5;2m✔ Download and installation successful\u001b[0m\n",
            "You can now load the model via spacy.load('en_core_web_md')\n"
          ],
          "name": "stdout"
        }
      ]
    },
    {
      "cell_type": "code",
      "metadata": {
        "id": "FxtXgFbXRCP2"
      },
      "source": [
        "# restart runtime and run\n",
        "\n",
        "import spacy\n",
        "nlp = spacy.load('en_core_web_md')"
      ],
      "execution_count": 1,
      "outputs": []
    },
    {
      "cell_type": "code",
      "metadata": {
        "colab": {
          "base_uri": "https://localhost:8080/"
        },
        "id": "h3B6tkXpRF72",
        "outputId": "55bb0b11-4705-4054-fbfe-eda4ae753d5d"
      },
      "source": [
        "txt = 'hi hello'\n",
        "\n",
        "nlp(txt).vector"
      ],
      "execution_count": 4,
      "outputs": [
        {
          "output_type": "execute_result",
          "data": {
            "text/plain": [
              "array([ 0.140563  ,  0.25741   , -0.570875  ,  0.0664975 ,  0.40275002,\n",
              "        0.147045  ,  0.479875  , -0.86797   , -0.013234  ,  0.70441496,\n",
              "       -0.18727851, -0.55326   ,  0.031088  , -0.302795  , -0.218425  ,\n",
              "        0.1714465 , -0.1402215 ,  1.15686   , -0.064224  ,  0.023647  ,\n",
              "       -0.038963  ,  0.10557149, -0.0825845 ,  0.13992   ,  0.00646   ,\n",
              "       -0.224475  ,  0.006263  , -0.10045465,  0.07977   ,  0.2405525 ,\n",
              "        0.0824495 ,  0.199375  , -0.26063502, -0.127125  , -0.312355  ,\n",
              "       -0.21125549, -0.19742501,  0.0931035 , -0.1841445 , -0.19441   ,\n",
              "        0.19955501, -0.39757   , -0.17167701, -0.20956999, -0.11297535,\n",
              "        0.25898   ,  0.126335  ,  0.051426  ,  0.35930002,  0.07032099,\n",
              "       -0.1369565 ,  0.63065   , -0.122751  , -0.1530238 , -0.21321501,\n",
              "       -0.09383149, -0.120671  ,  0.124517  , -0.336155  ,  0.0193    ,\n",
              "       -0.650625  , -0.103172  , -0.09079599, -0.496495  ,  0.1688545 ,\n",
              "       -0.232255  ,  0.062425  ,  0.35109502,  0.1771375 , -0.09810999,\n",
              "        0.026234  , -0.09334189,  0.3097    ,  0.060675  ,  0.31312   ,\n",
              "        0.242798  ,  0.12040585,  0.357705  ,  0.1400515 ,  0.35558498,\n",
              "       -0.1176205 ,  0.50224996, -0.312615  ,  0.18757701, -0.111635  ,\n",
              "       -0.23256499,  1.2421    , -0.44614   ,  0.215655  ,  0.008255  ,\n",
              "        0.269665  , -0.02048   , -0.251495  , -0.0849445 ,  0.1066365 ,\n",
              "       -0.058819  ,  0.176045  , -0.32683   , -0.423835  ,  0.32849002,\n",
              "       -0.0229125 ,  0.0097935 ,  0.035293  ,  0.297515  ,  0.034974  ,\n",
              "        0.007525  ,  0.14898351, -0.38926   , -0.36074   , -0.0822595 ,\n",
              "       -0.029283  , -0.479255  , -0.0246475 ,  0.0512032 ,  0.33824   ,\n",
              "        0.42058498,  0.236145  , -0.3743    , -0.1239215 , -0.13616104,\n",
              "        0.284505  , -0.356655  ,  0.206205  , -0.21142   ,  0.436815  ,\n",
              "        0.17383015,  0.56288   ,  0.144667  , -0.138355  ,  0.56436   ,\n",
              "        0.0187595 , -0.436865  , -0.0231385 , -0.15079752,  0.27801   ,\n",
              "       -0.344905  , -0.1504035 ,  0.18869   , -0.227145  ,  0.12182999,\n",
              "       -2.51025   , -0.332145  , -0.20355451, -0.387115  , -0.257685  ,\n",
              "        0.1556215 , -0.19433999,  0.38964   , -0.298025  , -0.1176025 ,\n",
              "        0.14169   ,  0.048325  , -0.24658   , -0.14833799,  0.21152   ,\n",
              "        0.034432  ,  0.394025  , -0.190625  ,  0.17317499, -0.30887002,\n",
              "        0.1010416 ,  0.251175  ,  0.18643999, -0.2747075 , -0.137535  ,\n",
              "       -0.0690865 ,  0.094607  , -0.07450151, -0.01666   ,  0.342705  ,\n",
              "       -0.21368   ,  0.16185   , -0.191212  , -0.300285  , -0.164262  ,\n",
              "       -0.24970499, -0.32929498,  0.0756095 , -0.1713715 ,  0.11485035,\n",
              "       -0.31831998, -0.3371375 , -0.28176498, -0.1065395 , -0.0278805 ,\n",
              "       -0.384295  ,  0.1587085 , -0.111971  ,  0.008875  , -0.268085  ,\n",
              "        0.39615   , -0.06981499, -0.37758   , -0.552205  ,  0.2197005 ,\n",
              "       -0.0852619 ,  0.022145  , -0.368905  ,  0.66402   ,  0.30523   ,\n",
              "       -0.39297   , -0.043644  , -0.05424801, -0.1148535 ,  0.1587865 ,\n",
              "       -0.359145  ,  0.51116   , -0.259115  , -0.03745   , -0.336685  ,\n",
              "       -0.54344   , -0.231445  ,  0.01379   , -0.193405  , -0.052267  ,\n",
              "        0.0234765 ,  0.015388  , -0.07891375, -0.04545501, -0.024585  ,\n",
              "       -0.0182155 ,  0.34035   ,  0.34787   ,  0.60802   , -0.03260465,\n",
              "        0.33318   ,  0.002695  ,  0.0529455 , -0.0569585 , -0.409285  ,\n",
              "       -0.0292025 , -0.10871099, -0.717095  ,  0.21625999, -0.222235  ,\n",
              "        0.0161935 , -0.318335  , -0.053552  ,  0.025445  ,  0.44892   ,\n",
              "       -0.209835  ,  0.18398249,  0.38441002,  0.08053499,  0.15951045,\n",
              "       -0.0353515 ,  0.48446   ,  0.1014455 ,  0.3256    ,  0.159424  ,\n",
              "        0.01083   ,  0.156305  , -0.360035  , -0.107022  ,  0.0197525 ,\n",
              "        0.1432835 , -0.20996499,  0.15622   , -0.24910998, -0.28786   ,\n",
              "       -0.102937  , -0.124621  ,  0.10437765,  0.126757  , -0.66653   ,\n",
              "       -0.28640002,  0.09450405,  0.60579   , -0.13174964, -0.151455  ,\n",
              "       -0.583625  ,  0.25107   , -0.106813  ,  0.30349   ,  0.175315  ,\n",
              "       -0.1256585 , -0.0653589 ,  0.015173  ,  0.008635  ,  0.19757   ,\n",
              "       -0.08649799, -0.10194699, -0.098435  ,  0.14798799,  0.042124  ,\n",
              "       -0.337775  ,  0.02266435,  0.23162499, -0.0066725 ,  0.2495055 ,\n",
              "        0.344075  ,  0.02860501, -0.18411049,  0.0131445 ,  0.547225  ,\n",
              "       -0.08980501,  0.210685  ,  0.0628305 , -0.427055  ,  0.349365  ],\n",
              "      dtype=float32)"
            ]
          },
          "metadata": {
            "tags": []
          },
          "execution_count": 4
        }
      ]
    },
    {
      "cell_type": "code",
      "metadata": {
        "colab": {
          "base_uri": "https://localhost:8080/"
        },
        "id": "JQxF32_BSNgt",
        "outputId": "6d672a04-44fe-4a24-89c1-a4db9c327084"
      },
      "source": [
        "# check word similarity\n",
        "\n",
        "tokens = nlp('apple orange cat')\n",
        "\n",
        "# Iterate through token combinations:\n",
        "for t1 in tokens:\n",
        "    for t2 in tokens:\n",
        "        print(t1.text, t2.text, t1.similarity(t2))"
      ],
      "execution_count": 5,
      "outputs": [
        {
          "output_type": "stream",
          "text": [
            "apple apple 1.0\n",
            "apple orange 0.56189173\n",
            "apple cat 0.28213844\n",
            "orange apple 0.56189173\n",
            "orange orange 1.0\n",
            "orange cat 0.3288469\n",
            "cat apple 0.28213844\n",
            "cat orange 0.3288469\n",
            "cat cat 1.0\n"
          ],
          "name": "stdout"
        }
      ]
    }
  ]
}